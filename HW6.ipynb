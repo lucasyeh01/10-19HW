{
  "nbformat": 4,
  "nbformat_minor": 0,
  "metadata": {
    "colab": {
      "provenance": []
    },
    "kernelspec": {
      "name": "python3",
      "display_name": "Python 3"
    },
    "language_info": {
      "name": "python"
    }
  },
  "cells": [
    {
      "cell_type": "code",
      "execution_count": 1,
      "metadata": {
        "colab": {
          "base_uri": "https://localhost:8080/"
        },
        "id": "7wbMQwzzY2Wp",
        "outputId": "fa5832d2-0c52-459c-a5ea-53c4aeff66b8"
      },
      "outputs": [
        {
          "output_type": "stream",
          "name": "stdout",
          "text": [
            "哈囉\n"
          ]
        }
      ],
      "source": [
        "print(\"哈囉\")"
      ]
    },
    {
      "cell_type": "code",
      "source": [],
      "metadata": {
        "id": "dxndqfZWY6ge"
      },
      "execution_count": null,
      "outputs": []
    }
  ]
}